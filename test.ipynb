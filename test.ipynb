{
 "cells": [
  {
   "cell_type": "code",
   "execution_count": 1,
   "id": "d1592e7f",
   "metadata": {},
   "outputs": [
    {
     "name": "stdout",
     "output_type": "stream",
     "text": [
      "/Users/jong/Public/Projects/genie\n"
     ]
    }
   ],
   "source": [
    "from pathlib import Path\n",
    "\n",
    "current_path = Path.cwd()\n",
    "print(current_path)"
   ]
  },
  {
   "cell_type": "code",
   "execution_count": 2,
   "id": "1712106a",
   "metadata": {},
   "outputs": [],
   "source": [
    "# ----------------------------\n",
    "# Load data\n",
    "# ----------------------------\n",
    "customers_csv = Path(\"customers.csv\")\n",
    "results_csv   = Path(\"outputs/uob_one_interest_simulation_rows.csv\")"
   ]
  },
  {
   "cell_type": "code",
   "execution_count": 4,
   "id": "b3442c66",
   "metadata": {},
   "outputs": [
    {
     "data": {
      "text/plain": [
       "True"
      ]
     },
     "execution_count": 4,
     "metadata": {},
     "output_type": "execute_result"
    }
   ],
   "source": [
    "customers_csv.exists()"
   ]
  },
  {
   "cell_type": "code",
   "execution_count": 5,
   "id": "4f17a4a7",
   "metadata": {},
   "outputs": [
    {
     "data": {
      "text/plain": [
       "False"
      ]
     },
     "execution_count": 5,
     "metadata": {},
     "output_type": "execute_result"
    }
   ],
   "source": [
    "results_csv.exists()"
   ]
  },
  {
   "cell_type": "code",
   "execution_count": null,
   "id": "3e462803",
   "metadata": {},
   "outputs": [],
   "source": [
    "x"
   ]
  },
  {
   "cell_type": "code",
   "execution_count": null,
   "id": "af0b35f2",
   "metadata": {},
   "outputs": [
    {
     "name": "stdout",
     "output_type": "stream",
     "text": [
      "Today's date: 2025-09-08 22:37:36.849847\n"
     ]
    }
   ],
   "source": [
    "\n",
    "print(\"Today's date:\", today)"
   ]
  },
  {
   "cell_type": "code",
   "execution_count": null,
   "id": "b6abb479",
   "metadata": {},
   "outputs": [
    {
     "name": "stdout",
     "output_type": "stream",
     "text": [
      "Formatted date: 2025-09-08-22-37-36\n"
     ]
    }
   ],
   "source": [
    "from datetime import datetime\n",
    "today = datetime.today()\n",
    "strftime = today.strftime(\"%Y-%m-%d-%H-%M-%S\")\n",
    "print(\"Formatted date:\", strftime)"
   ]
  },
  {
   "cell_type": "code",
   "execution_count": 20,
   "id": "96d21a20",
   "metadata": {},
   "outputs": [
    {
     "name": "stdout",
     "output_type": "stream",
     "text": [
      "{\n",
      "  \"current_balance\": 127000,\n",
      "  \"current_interest\": 230.57,\n",
      "  \"simulations\": [\n",
      "    {\n",
      "      \"type\": \"upgrade_level\",\n",
      "      \"new_level\": \"Level3\",\n",
      "      \"new_tier\": \"Tier3\",\n",
      "      \"new_avg_balance\": 127000,\n",
      "      \"total_interest\": 230.57,\n",
      "      \"incremental_gain_vs_current\": 0.0,\n",
      "      \"explanation\": \"No change because the account is already at the highest level.\"\n",
      "    },\n",
      "    {\n",
      "      \"type\": \"top_up_tier_cap\",\n",
      "      \"new_level\": \"Level3\",\n",
      "      \"new_tier\": \"Tier3\",\n",
      "      \"new_avg_balance\": 150000,\n",
      "      \"total_interest\": 318.48,\n",
      "      \"incremental_gain_vs_current\": 87.91,\n",
      "      \"explanation\": \"Increasing the balance to the Tier3 cap of 150,000 raises the balance portion in Tier3, which has the highest bonus rate, leading to a higher total interest.\"\n",
      "    },\n",
      "    {\n",
      "      \"type\": \"upgrade_tier\",\n",
      "      \"new_level\": \"Level3\",\n",
      "      \"new_tier\": \"Tier3\",\n",
      "      \"new_avg_balance\": 127000,\n",
      "      \"total_interest\": 230.57,\n",
      "      \"incremental_gain_vs_current\": 0.0,\n",
      "      \"explanation\": \"The account is already at the highest tier; no change.\"\n",
      "    }\n",
      "  ],\n",
      "  \"recommendation\": {\n",
      "    \"type\": \"top_up_tier_cap\",\n",
      "    \"steps\": [\n",
      "      \"Ensure sufficient funds are available to raise the account balance to 150,000.\",\n",
      "      \"Transfer or deposit the required amount into the account.\",\n",
      "      \"Confirm the updated balance and that the account remains at Level3.\"\n",
      "    ]\n",
      "  }\n",
      "}\n"
     ]
    }
   ],
   "source": [
    "import json\n",
    "\n",
    "with open(\"outputs/test_output.txt\",'r') as f:\n",
    "    lines = f.readlines()[1:-1]  # skip first and last lines\n",
    "    json_str = \"\".join(lines)    # join remaining lines\n",
    "\n",
    "data = json.loads(json_str)\n",
    "print(json.dumps(data, indent=2))"
   ]
  },
  {
   "cell_type": "code",
   "execution_count": null,
   "id": "87d9c883",
   "metadata": {},
   "outputs": [],
   "source": []
  }
 ],
 "metadata": {
  "kernelspec": {
   "display_name": "Python 3",
   "language": "python",
   "name": "python3"
  },
  "language_info": {
   "codemirror_mode": {
    "name": "ipython",
    "version": 3
   },
   "file_extension": ".py",
   "mimetype": "text/x-python",
   "name": "python",
   "nbconvert_exporter": "python",
   "pygments_lexer": "ipython3",
   "version": "3.13.7"
  }
 },
 "nbformat": 4,
 "nbformat_minor": 5
}
